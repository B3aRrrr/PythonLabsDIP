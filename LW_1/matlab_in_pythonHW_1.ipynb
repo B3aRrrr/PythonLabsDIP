{
  "nbformat": 4,
  "nbformat_minor": 0,
  "metadata": {
    "colab": {
      "provenance": []
    },
    "kernelspec": {
      "name": "python3",
      "display_name": "Python 3"
    },
    "language_info": {
      "name": "python"
    }
  },
  "cells": [
    {
      "cell_type": "code",
      "source": [
        "%%capture\n",
        "!pip install halftone"
      ],
      "metadata": {
        "id": "midXQzyAzJzE"
      },
      "execution_count": 75,
      "outputs": []
    },
    {
      "cell_type": "code",
      "source": [
        "# importing image object from PIL\n",
        "import math\n",
        "from PIL import Image, ImageDraw, ImageStat\n",
        "import halftone as ht\n",
        "import random\n",
        "import numpy as np\n",
        "import os\n",
        "import imageio"
      ],
      "metadata": {
        "id": "c6cDwgG_wvO0"
      },
      "execution_count": 2,
      "outputs": []
    },
    {
      "cell_type": "markdown",
      "source": [
        "### №1."
      ],
      "metadata": {
        "id": "10dawA3lxB9e"
      }
    },
    {
      "cell_type": "code",
      "source": [
        "# Adaption of answer https://stackoverflow.com/a/10575940/355230\n",
        "def halftone(img, sample, scale, angle=45):\n",
        "    ''' Returns a halftone image created from the given input image `img`.\n",
        "     -> `sample` (in pixels), determines the sample box size from the original\n",
        "    image. The maximum output dot diameter is given by `sample` * `scale`\n",
        "    (which is also the number of possible dot sizes). So `sample` == 1 will\n",
        "    preserve the original image resolution, but `scale` must be > 1 to allow\n",
        "    variations in dot size.\n",
        "    '''\n",
        "    img_grey = img.convert('L')  # Convert to greyscale.\n",
        "    channel = img_grey.split()[0]  # Get grey pixels.\n",
        "    channel = channel.rotate(angle, expand=1)\n",
        "    size = channel.size[0]*scale, channel.size[1]*scale\n",
        "\n",
        "    bitmap = Image.new('1', size)\n",
        "    draw = ImageDraw.Draw(bitmap)\n",
        "\n",
        "    for x in range(0, channel.size[0], sample):\n",
        "        for y in range(0, channel.size[1], sample):\n",
        "            box = channel.crop((x, y, x+sample, y+sample))\n",
        "            mean = ImageStat.Stat(box).mean[0]\n",
        "            diameter = (mean/255) ** 0.5\n",
        "            edge = 0.5 * (1-diameter)\n",
        "            x_pos, y_pos = (x+edge) * scale, (y+edge) * scale\n",
        "            box_edge = sample * diameter * scale\n",
        "            draw.ellipse((x_pos, y_pos, x_pos+box_edge, y_pos+box_edge),\n",
        "                         fill=255)\n",
        "\n",
        "    bitmap = bitmap.rotate(-angle, expand=1)\n",
        "    width_half, height_half = bitmap.size\n",
        "    xx = (width_half - img.size[0]*scale) / 2\n",
        "    yy = (height_half - img.size[1]*scale) / 2\n",
        "    bitmap = bitmap.crop((xx, yy, xx + img.size[0]*scale,\n",
        "                                  yy + img.size[1]*scale))\n",
        "    return Image.merge('1', [bitmap])\n",
        "\n",
        "def Luminance (R,G,B):\n",
        "  return (0.212*R) + (0.7152*G) + (0.0722*B)"
      ],
      "metadata": {
        "id": "xg0qP2sD1ZB5"
      },
      "execution_count": 10,
      "outputs": []
    },
    {
      "cell_type": "code",
      "source": [
        "w,h = 1000,1000\n",
        "mu, sigma = 255/2, 255\n",
        "\n",
        "\n",
        "pixels = np.random.normal(mu, sigma,size=(w,h,3))\n",
        "image = Image.fromarray(pixels.astype('uint8'), 'RGB')\n",
        "image_file = image.convert('1') # convert image to black and white\n",
        "image_file.save('your_file.png')\n",
        "image.save(\"your_file_RGB.png\")\n",
        "\n",
        "im = Image.open(\"your_file.png\") \n",
        "\n",
        "data = np.array(im.getdata())\n",
        "pixels_from_image = data.reshape(*im.size, -1)\n"
      ],
      "metadata": {
        "id": "_7stkumDzXHN"
      },
      "execution_count": 73,
      "outputs": []
    },
    {
      "cell_type": "code",
      "source": [
        "width_i = 5\n",
        "brightness = 0\n",
        "start_x  = 0\n",
        "while True:\n",
        "  print(f\"w = {w}; brightness = {brightness}; start_x = {start_x}\")\n",
        "  pixels_from_image[:,start_x : start_x + width_i ] = pixels_from_image[:,start_x : start_x + width_i ] * brightness\n",
        "  brightness = width_i/w\n",
        "  start_x += width_i\n",
        "  width_i *=2\n",
        "  if start_x > w:\n",
        "    break\n"
      ],
      "metadata": {
        "colab": {
          "base_uri": "https://localhost:8080/"
        },
        "id": "5H5GjjsDNoBo",
        "outputId": "f4b034c0-f725-4c97-e77c-605f6e35e9b8"
      },
      "execution_count": 74,
      "outputs": [
        {
          "output_type": "stream",
          "name": "stdout",
          "text": [
            "w = 1000; brightness = 0; start_x = 0\n",
            "w = 1000; brightness = 0.005; start_x = 5\n",
            "w = 1000; brightness = 0.01; start_x = 15\n",
            "w = 1000; brightness = 0.02; start_x = 35\n",
            "w = 1000; brightness = 0.04; start_x = 75\n",
            "w = 1000; brightness = 0.08; start_x = 155\n",
            "w = 1000; brightness = 0.16; start_x = 315\n",
            "w = 1000; brightness = 0.32; start_x = 635\n"
          ]
        }
      ]
    },
    {
      "cell_type": "code",
      "source": [
        "pixels_from_image = pixels_from_image.reshape((w, h)).astype('uint8')*255\n",
        "image = Image.fromarray(pixels_from_image.astype('uint8'))\n",
        "image.save(\"your_file_fixed.png\")"
      ],
      "metadata": {
        "id": "5IOrhGTHTOwK"
      },
      "execution_count": 71,
      "outputs": []
    },
    {
      "cell_type": "markdown",
      "source": [
        "### №2."
      ],
      "metadata": {
        "id": "cKxSWwx8w-zO"
      }
    },
    {
      "cell_type": "code",
      "source": [
        "frequencies = {\n",
        "    \"red\":430*1e12,\n",
        "    \"orange\":492*1e12,\n",
        "    \"yellow\":520*1e12,\n",
        "    \"green\":575*1e12,\n",
        "    \"cyan\":610*1e12,\n",
        "    \"blue\":645*1e12,\n",
        "    \"violet\":730*1e12\n",
        "}\n",
        "\n",
        "def phases_waves( x,y,t,\n",
        "                 x0:float=0,y0:float=0,\n",
        "                 frequency_wave:str=\"red\", \n",
        "                 Amplitude:float=20,\n",
        "                 phi_0=0):\n",
        "  C = 299792458.0 # \"Speed of light in vacuum\n",
        "  freq = frequencies[frequency_wave]\n",
        "\n",
        "  lambda_wave = C/freq\n",
        "  k = 2 * np.pi / lambda_wave\n",
        "  return Amplitude * np.cos(\n",
        "      (((x-x0)**2 + (y-y0)**2)*k)**0.5 - 2 * np.pi * freq * t + phi_0\n",
        "  )\n",
        "  vphases_waves = np.vectorize(phases_waves)"
      ],
      "metadata": {
        "id": "O5RBmNX5SqFP"
      },
      "execution_count": 4,
      "outputs": []
    },
    {
      "cell_type": "code",
      "source": [
        "!pwd"
      ],
      "metadata": {
        "colab": {
          "base_uri": "https://localhost:8080/"
        },
        "id": "ssSFGUDnoea5",
        "outputId": "845b5e94-0765-48ba-eb5e-7f3cf7f2dfdf"
      },
      "execution_count": 5,
      "outputs": [
        {
          "output_type": "stream",
          "name": "stdout",
          "text": [
            "/content\n"
          ]
        }
      ]
    },
    {
      "cell_type": "code",
      "source": [
        "def clear_folder(folder):\n",
        "  for filename in os.listdir(folder):\n",
        "      file_path = os.path.join(folder, filename)\n",
        "      try:\n",
        "          if os.path.isfile(file_path) or os.path.islink(file_path):\n",
        "              os.unlink(file_path)\n",
        "          elif os.path.isdir(file_path):\n",
        "              shutil.rmtree(file_path)\n",
        "      except Exception as e:\n",
        "          print('Failed to delete %s. Reason: %s' % (file_path, e))"
      ],
      "metadata": {
        "id": "W4X5gT1XyZyS"
      },
      "execution_count": 6,
      "outputs": []
    },
    {
      "cell_type": "code",
      "execution_count": 8,
      "metadata": {
        "colab": {
          "base_uri": "https://localhost:8080/"
        },
        "id": "jNRAYcRGrCnh",
        "outputId": "3eb59d31-67dc-4da0-b6bf-3161f5102370"
      },
      "outputs": [
        {
          "output_type": "stream",
          "name": "stdout",
          "text": [
            "  adding: content/WAVES_gifs/ (stored 0%)\n",
            "  adding: content/WAVES_gifs/Red-50-((0_0)_(500_0)).gif (deflated 9%)\n",
            "  adding: content/WAVES_gifs/Red-200-((0_0)_(500_0)).gif (deflated 7%)\n",
            "  adding: content/WAVES_gifs/Red-150-((0_0)_(500_0)).gif (deflated 7%)\n",
            "  adding: content/WAVES_gifs/Red-100-((0_0)_(500_0)).gif (deflated 7%)\n"
          ]
        }
      ],
      "source": [
        "import os\n",
        "WAVES_IMAGES = \"/content/WAVES_jpgs\"\n",
        "if not os.path.exists(WAVES_IMAGES):\n",
        "    os.makedirs(WAVES_IMAGES)\n",
        "WAVES_GIFS = \"/content/WAVES_gifs\"\n",
        "if not os.path.exists(WAVES_GIFS):\n",
        "    os.makedirs(WAVES_GIFS)\n",
        "\n",
        "w,h = 500,500\n",
        "\n",
        "xc0,yc0 = 0,0\n",
        "xc1,yc1 = w,0\n",
        "\n",
        "#waves = [\"red\",\"orange\",\"yellow\",\"green\",\"cyan\",\"blue\",\"violet\"]\n",
        "Amplitudes = range(50,250,50)\n",
        "T = 100\n",
        "# for wave in waves:\n",
        "wave = 'red'\n",
        "for Amplitude in Amplitudes:\n",
        "  images = []\n",
        "  for t_i in np.linspace(0,T,3*T):\n",
        "    X = np.tile(np.linspace(0,w,w), (w, 1))\n",
        "    Y = np.tile(np.linspace(0,h,h).reshape((-1,1)), (1, h))\n",
        "    pixels = np.full((w,h,3), 255)\n",
        "    pixels[:,:,0] = pixels[:,:,1] = pixels[:,:,2] = phases_waves(\n",
        "        t=t_i,x=X,y=Y,x0=xc0,y0=yc0,frequency_wave=wave,Amplitude=Amplitude\n",
        "        ) + phases_waves(\n",
        "            t=t_i,x=X,y=Y,x0=xc1,y0=yc1,frequency_wave=wave,Amplitude=Amplitude\n",
        "            )\n",
        "\n",
        "    image = Image.fromarray(pixels.astype('uint8'), 'RGB')\n",
        "    images.append(image)\n",
        "    image.save(f\"{WAVES_IMAGES}/{t_i}.jpeg\")\n",
        "    \n",
        "  imageio.mimsave(f'{WAVES_GIFS}/{wave.capitalize()}-{Amplitude}-(({xc0}_{yc0})_({xc1}_{yc1})).gif', images)\n",
        "  clear_folder(WAVES_IMAGES)\n",
        "# change brightness of vertical lines\n",
        "\n",
        "\n",
        "!zip -r {WAVES_GIFS}.zip {WAVES_GIFS}\n"
      ]
    },
    {
      "cell_type": "code",
      "source": [
        "print(np.cos(1))\n",
        "print(np.cos(1 + 2*np.pi/360*5))"
      ],
      "metadata": {
        "colab": {
          "base_uri": "https://localhost:8080/"
        },
        "id": "KBK9JtKsrw-g",
        "outputId": "8c05e06b-9958-43c5-c54a-5e3f67c52a02"
      },
      "execution_count": null,
      "outputs": [
        {
          "output_type": "stream",
          "name": "stdout",
          "text": [
            "0.5403023058681398\n",
            "0.46490726379104985\n"
          ]
        }
      ]
    },
    {
      "cell_type": "code",
      "source": [
        "import os, shutil\n",
        "folders = [WAVES_IMAGES, WAVES_GIFS]\n",
        "for folder in folders:\n",
        "  clear_folder(folder)"
      ],
      "metadata": {
        "id": "avwwJYUosNpk"
      },
      "execution_count": null,
      "outputs": []
    },
    {
      "cell_type": "code",
      "source": [
        "w,h = 500,500\n",
        "N = int(input(\"Количество источников: \"))\n",
        "R = float(input(\"Радиус круговой траектории: \"))\n",
        "assert N > 0, \"Минимум 1 источник волн\"\n",
        "assert 0<= R <= w and 0<= R <= h, \"НЕ верный размер окружности\"\n",
        "T = 100\n",
        "images = []\n",
        "x_C = w/2\n",
        "y_C = h/2\n",
        "for t_i in range(T):\n",
        "  X = np.tile(np.linspace(0,w,w), (w, 1))\n",
        "  Y = np.tile(np.linspace(0,h,h).reshape((-1,1)), (1, h))\n",
        "  pixels = np.full((w,h,3), 255)\n",
        "  \n",
        "  pixels[:,:,0] = pixels[:,:,1] = pixels[:,:,2] = sum([phases_waves(t=t_i,x=X,y=Y,x0=x_C + R * np.cos(t_i+i*np.pi/360*N),y0=y_C+R * np.sin(t_i+i*np.pi/360*N)) for i in range(N)])\n",
        "  \n",
        "  image = Image.fromarray(pixels.astype('uint8'), 'RGB')\n",
        "  images.append(image)\n",
        "  image.save(f\"{WAVES_IMAGES}/{t_i}.jpeg\")\n",
        "  \n",
        "imageio.mimsave(f'{WAVES_GIFS}/waves_from_{N}_sorces.gif', images)\n"
      ],
      "metadata": {
        "colab": {
          "base_uri": "https://localhost:8080/"
        },
        "id": "aw_vbHX4pM5n",
        "outputId": "506d9198-6b09-4d2c-98d1-840a0d725a20"
      },
      "execution_count": null,
      "outputs": [
        {
          "name": "stdout",
          "output_type": "stream",
          "text": [
            "Количество источников: 5\n",
            "Радиус круговой траектории: 125.7\n"
          ]
        }
      ]
    }
  ]
}